{
 "cells": [
  {
   "cell_type": "code",
   "execution_count": 1,
   "metadata": {
    "_cell_guid": "b1076dfc-b9ad-4769-8c92-a6c4dae69d19",
    "_uuid": "8f2839f25d086af736a60e9eeb907d3b93b6e0e5",
    "execution": {
     "iopub.execute_input": "2020-11-04T09:39:47.611535Z",
     "iopub.status.busy": "2020-11-04T09:39:47.610459Z",
     "iopub.status.idle": "2020-11-04T09:39:47.620943Z",
     "shell.execute_reply": "2020-11-04T09:39:47.621765Z"
    },
    "papermill": {
     "duration": 0.065156,
     "end_time": "2020-11-04T09:39:47.622031",
     "exception": false,
     "start_time": "2020-11-04T09:39:47.556875",
     "status": "completed"
    },
    "tags": []
   },
   "outputs": [],
   "source": [
    "# This Python 3 environment comes with many helpful analytics libraries installed\n",
    "# It is defined by the kaggle/python Docker image: https://github.com/kaggle/docker-python\n",
    "# For example, here's several helpful packages to load\n",
    "\n",
    "import numpy as np # linear algebra\n",
    "import pandas as pd # data processing, CSV file I/O (e.g. pd.read_csv)\n",
    "\n",
    "# Input data files are available in the read-only \"../input/\" directory\n",
    "# For example, running this (by clicking run or pressing Shift+Enter) will list all files under the input directory\n",
    "\n",
    "import os\n",
    "\n",
    "\n",
    "# You can write up to 20GB to the current directory (/kaggle/working/) that gets preserved as output when you create a version using \"Save & Run All\" \n",
    "# You can also write temporary files to /kaggle/temp/, but they won't be saved outside of the current session"
   ]
  },
  {
   "cell_type": "code",
   "execution_count": 2,
   "metadata": {
    "_cell_guid": "79c7e3d0-c299-4dcb-8224-4455121ee9b0",
    "_uuid": "d629ff2d2480ee46fbb7e2d37f6b5fab8052498a",
    "execution": {
     "iopub.execute_input": "2020-11-04T09:39:47.701492Z",
     "iopub.status.busy": "2020-11-04T09:39:47.700424Z",
     "iopub.status.idle": "2020-11-04T09:40:11.897266Z",
     "shell.execute_reply": "2020-11-04T09:40:11.896074Z"
    },
    "papermill": {
     "duration": 24.244363,
     "end_time": "2020-11-04T09:40:11.897400",
     "exception": false,
     "start_time": "2020-11-04T09:39:47.653037",
     "status": "completed"
    },
    "tags": []
   },
   "outputs": [
    {
     "name": "stdout",
     "output_type": "stream",
     "text": [
      "Collecting imutils\r\n",
      "  Downloading imutils-0.5.3.tar.gz (17 kB)\r\n",
      "Building wheels for collected packages: imutils\r\n",
      "  Building wheel for imutils (setup.py) ... \u001b[?25l-\b \b\\\b \bdone\r\n",
      "\u001b[?25h  Created wheel for imutils: filename=imutils-0.5.3-py3-none-any.whl size=25850 sha256=83e0dfc4b6fa0b5ef0c25605c27a51cfe141ee351b5fdfde3032d8dc1e438798\r\n",
      "  Stored in directory: /root/.cache/pip/wheels/fc/9c/6d/1826267c72afa51b564c9c6e0f66abc806879338bc593a2270\r\n",
      "Successfully built imutils\r\n",
      "Installing collected packages: imutils\r\n",
      "Successfully installed imutils-0.5.3\r\n",
      "Collecting torchsummary\r\n",
      "  Downloading torchsummary-1.5.1-py3-none-any.whl (2.8 kB)\r\n",
      "Installing collected packages: torchsummary\r\n",
      "Successfully installed torchsummary-1.5.1\r\n"
     ]
    }
   ],
   "source": [
    "!pip3 install imutils\n",
    "!pip3 install torchsummary\n",
    "from torchsummary import summary\n",
    "import torch\n",
    "import torch.nn as nn\n",
    "import torch.optim as optim\n",
    "import torch.utils.data\n",
    "import torch.nn.functional as F\n",
    "import torchvision\n",
    "from torchvision import transforms\n",
    "from PIL import Image\n",
    "import imutils\n",
    "import cv2\n",
    "from matplotlib import pyplot as plt"
   ]
  },
  {
   "cell_type": "code",
   "execution_count": 3,
   "metadata": {
    "execution": {
     "iopub.execute_input": "2020-11-04T09:40:11.932389Z",
     "iopub.status.busy": "2020-11-04T09:40:11.930459Z",
     "iopub.status.idle": "2020-11-04T09:40:11.933119Z",
     "shell.execute_reply": "2020-11-04T09:40:11.933635Z"
    },
    "papermill": {
     "duration": 0.021842,
     "end_time": "2020-11-04T09:40:11.933768",
     "exception": false,
     "start_time": "2020-11-04T09:40:11.911926",
     "status": "completed"
    },
    "tags": []
   },
   "outputs": [],
   "source": [
    "train_data_path = \"../input/cat-and-dog/training_set/training_set\"\n",
    "val_data_path = \"../input/cat-and-dog/test_set/test_set\""
   ]
  },
  {
   "cell_type": "code",
   "execution_count": 4,
   "metadata": {
    "execution": {
     "iopub.execute_input": "2020-11-04T09:40:11.970649Z",
     "iopub.status.busy": "2020-11-04T09:40:11.969129Z",
     "iopub.status.idle": "2020-11-04T09:40:13.052344Z",
     "shell.execute_reply": "2020-11-04T09:40:13.051108Z"
    },
    "papermill": {
     "duration": 1.104645,
     "end_time": "2020-11-04T09:40:13.052481",
     "exception": false,
     "start_time": "2020-11-04T09:40:11.947836",
     "status": "completed"
    },
    "tags": []
   },
   "outputs": [],
   "source": [
    "img_transforms = transforms.Compose([\n",
    "    \n",
    "    # we resize the pictures\n",
    "    transforms.Resize((128,128)),\n",
    "    transforms.ToTensor(),\n",
    "    transforms.Normalize((0.5, 0.5, 0.5), (0.5, 0.5, 0.5))\n",
    "    ])\n",
    "\n",
    "img_transforms_train = transforms.Compose([\n",
    "    \n",
    "    # we resize the pictures\n",
    "    transforms.Resize((150,150)),\n",
    "    transforms.RandomCrop(128),\n",
    "    transforms.RandomRotation(12),\n",
    "    transforms.RandomHorizontalFlip(),\n",
    "    transforms.ToTensor(),\n",
    "    transforms.Normalize((0.5, 0.5, 0.5), (0.5, 0.5, 0.5))\n",
    "    ])\n",
    "\n",
    "train_data = torchvision.datasets.ImageFolder(root=train_data_path,transform=img_transforms_train)\n",
    "\n",
    "val_data = torchvision.datasets.ImageFolder(root=val_data_path,transform=img_transforms)"
   ]
  },
  {
   "cell_type": "code",
   "execution_count": 5,
   "metadata": {
    "execution": {
     "iopub.execute_input": "2020-11-04T09:40:13.087731Z",
     "iopub.status.busy": "2020-11-04T09:40:13.086766Z",
     "iopub.status.idle": "2020-11-04T09:40:13.089408Z",
     "shell.execute_reply": "2020-11-04T09:40:13.088876Z"
    },
    "papermill": {
     "duration": 0.021532,
     "end_time": "2020-11-04T09:40:13.089517",
     "exception": false,
     "start_time": "2020-11-04T09:40:13.067985",
     "status": "completed"
    },
    "tags": []
   },
   "outputs": [],
   "source": [
    "train_data_loader = torch.utils.data.DataLoader(train_data, batch_size=32, shuffle=True)\n",
    "\n",
    "val_data_loader  = torch.utils.data.DataLoader(val_data, batch_size=32, shuffle=True)"
   ]
  },
  {
   "cell_type": "code",
   "execution_count": 6,
   "metadata": {
    "execution": {
     "iopub.execute_input": "2020-11-04T09:40:13.124234Z",
     "iopub.status.busy": "2020-11-04T09:40:13.123560Z",
     "iopub.status.idle": "2020-11-04T09:40:13.389515Z",
     "shell.execute_reply": "2020-11-04T09:40:13.388755Z"
    },
    "papermill": {
     "duration": 0.285908,
     "end_time": "2020-11-04T09:40:13.389623",
     "exception": false,
     "start_time": "2020-11-04T09:40:13.103715",
     "status": "completed"
    },
    "tags": []
   },
   "outputs": [],
   "source": [
    "images,label=next(iter(train_data_loader))\n"
   ]
  },
  {
   "cell_type": "code",
   "execution_count": 7,
   "metadata": {
    "execution": {
     "iopub.execute_input": "2020-11-04T09:40:13.786742Z",
     "iopub.status.busy": "2020-11-04T09:40:13.786057Z",
     "iopub.status.idle": "2020-11-04T09:40:13.792843Z",
     "shell.execute_reply": "2020-11-04T09:40:13.791583Z"
    },
    "papermill": {
     "duration": 0.389041,
     "end_time": "2020-11-04T09:40:13.792997",
     "exception": false,
     "start_time": "2020-11-04T09:40:13.403956",
     "status": "completed"
    },
    "tags": []
   },
   "outputs": [
    {
     "name": "stdout",
     "output_type": "stream",
     "text": [
      "CUDA is available!  Training on GPU ...\n"
     ]
    }
   ],
   "source": [
    "import torch\n",
    "import numpy as np\n",
    "\n",
    "# check if CUDA is available\n",
    "train_on_gpu = torch.cuda.is_available()\n",
    "\n",
    "if not train_on_gpu:\n",
    "    print('CUDA is not available.  Training on CPU ...')\n",
    "else:\n",
    "    print('CUDA is available!  Training on GPU ...')"
   ]
  },
  {
   "cell_type": "code",
   "execution_count": 8,
   "metadata": {
    "execution": {
     "iopub.execute_input": "2020-11-04T09:40:13.850354Z",
     "iopub.status.busy": "2020-11-04T09:40:13.849410Z",
     "iopub.status.idle": "2020-11-04T09:40:19.747330Z",
     "shell.execute_reply": "2020-11-04T09:40:19.746659Z"
    },
    "papermill": {
     "duration": 5.937944,
     "end_time": "2020-11-04T09:40:19.747466",
     "exception": false,
     "start_time": "2020-11-04T09:40:13.809522",
     "status": "completed"
    },
    "tags": []
   },
   "outputs": [
    {
     "name": "stdout",
     "output_type": "stream",
     "text": [
      "Net(\n",
      "  (conv1): Conv2d(3, 32, kernel_size=(3, 3), stride=(1, 1), padding=(1, 1))\n",
      "  (conv2): Conv2d(32, 64, kernel_size=(3, 3), stride=(1, 1), padding=(1, 1))\n",
      "  (conv3): Conv2d(64, 128, kernel_size=(3, 3), stride=(1, 1), padding=(1, 1))\n",
      "  (conv4): Conv2d(128, 256, kernel_size=(3, 3), stride=(1, 1), padding=(1, 1))\n",
      "  (pool): MaxPool2d(kernel_size=2, stride=2, padding=0, dilation=1, ceil_mode=False)\n",
      "  (fc1): Linear(in_features=16384, out_features=8000, bias=True)\n",
      "  (fc2): Linear(in_features=8000, out_features=4000, bias=True)\n",
      "  (fc3): Linear(in_features=4000, out_features=2000, bias=True)\n",
      "  (fc4): Linear(in_features=2000, out_features=1000, bias=True)\n",
      "  (fc5): Linear(in_features=1000, out_features=2, bias=True)\n",
      "  (dropout): Dropout(p=0.3, inplace=False)\n",
      ")\n"
     ]
    }
   ],
   "source": [
    "\n",
    "import torch.nn as nn\n",
    "import torch.nn.functional as F\n",
    "\n",
    "# define the CNN architecture\n",
    "class Net(nn.Module):\n",
    "    def __init__(self):\n",
    "        super(Net, self).__init__()\n",
    "        # convolutional layer (sees 128x128x3 image tensor)\n",
    "        self.conv1 = nn.Conv2d(3, 32, 3, padding=1)\n",
    "        # convolutional layer (sees 64x64x16 tensor)\n",
    "        self.conv2 = nn.Conv2d(32,64, 3, padding=1)\n",
    "        # convolutional layer (sees 32x32x32 tensor)\n",
    "        self.conv3 = nn.Conv2d( 64,128, 3, padding=1)\n",
    "        # convolutional layer (sees 16x16x64 tensor)\n",
    "        self.conv4 = nn.Conv2d(128, 256, 3, padding=1)\n",
    "        # max pooling layer\n",
    "        self.pool = nn.MaxPool2d(2, 2)\n",
    "        # linear layer (256* 8* 8 -> )\n",
    "        self.fc1 = nn.Linear(256 * 8*8, 8000)\n",
    "        self.fc2 = nn.Linear(8000, 4000)\n",
    "        self.fc3 = nn.Linear(4000,2000)\n",
    "        self.fc4 = nn.Linear(2000, 1000)\n",
    "        self.fc5 = nn.Linear(1000, 2)\n",
    "        \n",
    "        \n",
    "                \n",
    "        \n",
    "        \n",
    "        \n",
    "        # dropout layer (p=0.30)\n",
    "        self.dropout = nn.Dropout(0.30)\n",
    "\n",
    "    def forward(self, x):\n",
    "        # add sequence of convolutional and max pooling layers\n",
    "        x = self.pool(F.relu(self.conv1(x)))\n",
    "        x = self.pool(F.relu(self.conv2(x)))\n",
    "        x = self.pool(F.relu(self.conv3(x)))\n",
    "        x = self.pool(F.relu(self.conv4(x)))\n",
    "        # flatten image input\n",
    "        x = x.view(-1, 256*8* 8)\n",
    "        # add dropout layer\n",
    "        x = self.dropout(x)\n",
    "        # add 1st hidden layer, with relu activation function\n",
    "        x = F.relu(self.fc1(x))\n",
    "        # add dropout layer\n",
    "        \n",
    "        # add 2nd hidden layer, with relu activation function\n",
    "        x = F.relu(self.fc2(x))\n",
    "        x = self.dropout(x)\n",
    "        x = F.relu(self.fc3(x))\n",
    "        x = F.relu(self.fc4(x))\n",
    "        x = self.fc5(x)       \n",
    "        \n",
    "       \n",
    "        return x\n",
    "\n",
    "# create a complete CNN\n",
    "model = Net()\n",
    "print(model)\n",
    "\n",
    "# move tensors to GPU if CUDA is available\n",
    "if train_on_gpu:\n",
    "    model.cuda()"
   ]
  },
  {
   "cell_type": "code",
   "execution_count": 9,
   "metadata": {
    "execution": {
     "iopub.execute_input": "2020-11-04T09:40:19.820351Z",
     "iopub.status.busy": "2020-11-04T09:40:19.817444Z",
     "iopub.status.idle": "2020-11-04T09:40:19.821286Z",
     "shell.execute_reply": "2020-11-04T09:40:19.822027Z"
    },
    "papermill": {
     "duration": 0.042008,
     "end_time": "2020-11-04T09:40:19.822191",
     "exception": false,
     "start_time": "2020-11-04T09:40:19.780183",
     "status": "completed"
    },
    "tags": []
   },
   "outputs": [],
   "source": [
    "import torch.optim as optim\n",
    "\n",
    "# specify loss function (categorical cross-entropy)\n",
    "criterion = nn.CrossEntropyLoss()\n",
    "\n",
    "# specify optimizer\n",
    "optimizer = optim.Adam(model.parameters(), lr=0.00001)\n",
    "\n"
   ]
  },
  {
   "cell_type": "code",
   "execution_count": 10,
   "metadata": {
    "execution": {
     "iopub.execute_input": "2020-11-04T09:40:19.874461Z",
     "iopub.status.busy": "2020-11-04T09:40:19.873466Z",
     "iopub.status.idle": "2020-11-04T10:10:47.075362Z",
     "shell.execute_reply": "2020-11-04T10:10:47.076178Z"
    },
    "papermill": {
     "duration": 1827.232704,
     "end_time": "2020-11-04T10:10:47.076374",
     "exception": false,
     "start_time": "2020-11-04T09:40:19.843670",
     "status": "completed"
    },
    "tags": []
   },
   "outputs": [
    {
     "name": "stdout",
     "output_type": "stream",
     "text": [
      "epoch: 1/30.. train loss: 0.689.. test loss: 0.653 test acc: 0.642\n",
      "epoch: 2/30.. train loss: 0.644.. test loss: 0.624 test acc: 0.668\n",
      "epoch: 3/30.. train loss: 0.625.. test loss: 0.619 test acc: 0.663\n",
      "epoch: 4/30.. train loss: 0.614.. test loss: 0.604 test acc: 0.676\n",
      "epoch: 5/30.. train loss: 0.598.. test loss: 0.575 test acc: 0.695\n",
      "epoch: 6/30.. train loss: 0.584.. test loss: 0.558 test acc: 0.710\n",
      "epoch: 7/30.. train loss: 0.563.. test loss: 0.532 test acc: 0.736\n",
      "epoch: 8/30.. train loss: 0.540.. test loss: 0.527 test acc: 0.729\n",
      "epoch: 9/30.. train loss: 0.519.. test loss: 0.511 test acc: 0.748\n",
      "epoch: 10/30.. train loss: 0.504.. test loss: 0.499 test acc: 0.758\n",
      "epoch: 11/30.. train loss: 0.499.. test loss: 0.477 test acc: 0.779\n",
      "epoch: 12/30.. train loss: 0.485.. test loss: 0.482 test acc: 0.762\n",
      "epoch: 13/30.. train loss: 0.480.. test loss: 0.461 test acc: 0.780\n",
      "epoch: 14/30.. train loss: 0.470.. test loss: 0.454 test acc: 0.788\n",
      "epoch: 15/30.. train loss: 0.462.. test loss: 0.467 test acc: 0.768\n",
      "epoch: 16/30.. train loss: 0.454.. test loss: 0.454 test acc: 0.789\n",
      "epoch: 17/30.. train loss: 0.449.. test loss: 0.444 test acc: 0.788\n",
      "epoch: 18/30.. train loss: 0.448.. test loss: 0.455 test acc: 0.776\n",
      "epoch: 19/30.. train loss: 0.436.. test loss: 0.433 test acc: 0.802\n",
      "epoch: 20/30.. train loss: 0.430.. test loss: 0.436 test acc: 0.801\n",
      "epoch: 21/30.. train loss: 0.419.. test loss: 0.424 test acc: 0.810\n",
      "epoch: 22/30.. train loss: 0.414.. test loss: 0.428 test acc: 0.800\n",
      "epoch: 23/30.. train loss: 0.411.. test loss: 0.426 test acc: 0.794\n",
      "epoch: 24/30.. train loss: 0.404.. test loss: 0.454 test acc: 0.784\n",
      "epoch: 25/30.. train loss: 0.395.. test loss: 0.442 test acc: 0.787\n",
      "epoch: 26/30.. train loss: 0.397.. test loss: 0.434 test acc: 0.792\n",
      "epoch: 27/30.. train loss: 0.388.. test loss: 0.411 test acc: 0.806\n",
      "epoch: 28/30.. train loss: 0.382.. test loss: 0.422 test acc: 0.806\n",
      "epoch: 29/30.. train loss: 0.386.. test loss: 0.414 test acc: 0.815\n",
      "epoch: 30/30.. train loss: 0.371.. test loss: 0.412 test acc: 0.810\n"
     ]
    }
   ],
   "source": [
    "n_epochs = 30\n",
    "\n",
    "\n",
    "train,test=[],[]\n",
    "for i in range(1, n_epochs+1):\n",
    "\n",
    "    # keep track of training\n",
    "    \n",
    "    train_loss = 0.0\n",
    "    \n",
    "    ###################\n",
    "    # train the model #\n",
    "    ###################\n",
    "    model.train()\n",
    "    for images, label in train_data_loader:\n",
    "        # move tensors to GPU if CUDA is available\n",
    "        if train_on_gpu:\n",
    "            images, label = images.cuda(), label.cuda()\n",
    "        # clear the gradients of all optimized variables\n",
    "        optimizer.zero_grad()\n",
    "        # forward pass: compute predicted outputs by passing inputs to the model\n",
    "        output = model(images)\n",
    "        # calculate the batch loss\n",
    "        loss = criterion(output, label)\n",
    "        # backward pass: compute gradient of the loss with respect to model parameters\n",
    "        loss.backward()\n",
    "        # perform a single optimization step (parameter update)\n",
    "        optimizer.step()\n",
    "        # update training loss\n",
    "        train_loss += loss.item()\n",
    "        \n",
    "    else:\n",
    "        test_loss = 0\n",
    "        accuracy = 0\n",
    "    \n",
    "        with torch.no_grad():\n",
    "            model.eval()\n",
    "            for images,labels in val_data_loader:\n",
    "                if train_on_gpu:\n",
    "                    images, labels = images.cuda(), labels.cuda()\n",
    "                log_ps=model(images)\n",
    "                test_loss+=criterion(log_ps,labels)\n",
    "\n",
    "\n",
    "                ps=torch.exp(log_ps)\n",
    "                top_p,top_class=ps.topk(1,dim=1)\n",
    "                equals = top_class ==labels.view(*top_class.shape)\n",
    "                accuracy += torch.mean(equals.type(torch.FloatTensor))\n",
    "\n",
    "        train.append(train_loss/len(train_data_loader))\n",
    "        test.append(test_loss/len(val_data_loader))\n",
    "\n",
    "        print(\"epoch: {}/{}..\".format(i, n_epochs),\n",
    "                 \"train loss: {:.3f}..\".format(train_loss/len(train_data_loader)),\n",
    "                  \"test loss: {:.3f}\".format(test_loss/len(val_data_loader)),\n",
    "                  \"test acc: {:.3f}\".format(accuracy/len(val_data_loader)))"
   ]
  },
  {
   "cell_type": "code",
   "execution_count": null,
   "metadata": {
    "papermill": {
     "duration": 0.025898,
     "end_time": "2020-11-04T10:10:47.130857",
     "exception": false,
     "start_time": "2020-11-04T10:10:47.104959",
     "status": "completed"
    },
    "tags": []
   },
   "outputs": [],
   "source": []
  }
 ],
 "metadata": {
  "kernelspec": {
   "display_name": "Python 3",
   "language": "python",
   "name": "python3"
  },
  "language_info": {
   "codemirror_mode": {
    "name": "ipython",
    "version": 3
   },
   "file_extension": ".py",
   "mimetype": "text/x-python",
   "name": "python",
   "nbconvert_exporter": "python",
   "pygments_lexer": "ipython3",
   "version": "3.7.6"
  },
  "papermill": {
   "duration": 1865.266732,
   "end_time": "2020-11-04T10:10:48.414026",
   "environment_variables": {},
   "exception": null,
   "input_path": "__notebook__.ipynb",
   "output_path": "__notebook__.ipynb",
   "parameters": {},
   "start_time": "2020-11-04T09:39:43.147294",
   "version": "2.1.0"
  }
 },
 "nbformat": 4,
 "nbformat_minor": 4
}
